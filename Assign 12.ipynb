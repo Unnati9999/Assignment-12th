{
 "cells": [
  {
   "cell_type": "markdown",
   "id": "e8f35cde-ebd7-4066-a357-2a12608013b5",
   "metadata": {},
   "source": [
    "Q1. What is a database? Differentiate between SQL and NoSQL databases."
   ]
  },
  {
   "cell_type": "markdown",
   "id": "845def2e-b781-4a1f-8921-f245d24cbbdf",
   "metadata": {},
   "source": [
    "A database is an organized collection of structured information, or data stored in computer"
   ]
  },
  {
   "cell_type": "markdown",
   "id": "30cf76f4-3592-40ad-8931-5d588a3b362f",
   "metadata": {},
   "source": [
    " SQL databases are table-based, while NoSQL databases are document, key-value, graph"
   ]
  },
  {
   "cell_type": "markdown",
   "id": "5e185bd8-2d34-42dc-9580-7d3161d4790f",
   "metadata": {},
   "source": [
    "SQL databases are vertically scalable, while NoSQL databases are horizontally scalable."
   ]
  },
  {
   "cell_type": "code",
   "execution_count": null,
   "id": "3b0edfc0-0334-4f89-aa45-2a40c87212cf",
   "metadata": {},
   "outputs": [],
   "source": []
  },
  {
   "cell_type": "markdown",
   "id": "a864a3b0-8bf1-4380-b03f-7f0d30aa9b1e",
   "metadata": {},
   "source": [
    "Q2. What is DDL? Explain why CREATE, DROP, ALTER, and TRUNCATE are used with an example."
   ]
  },
  {
   "cell_type": "markdown",
   "id": "aabdbf81-8af6-4622-b5a3-c014e5b5110c",
   "metadata": {},
   "source": [
    "Data Definition Language(DDL) is a subset of SQL and a part of DBMS(Database Management System)"
   ]
  },
  {
   "cell_type": "markdown",
   "id": "72ad7915-f1d0-4057-8a88-ab9e5438f38b",
   "metadata": {},
   "source": [
    "DDL consist of Commands to commands like CREATE, ALTER, TRUNCATE and DROP.\n",
    "These commands are used to create or modify the tables in SQL."
   ]
  },
  {
   "cell_type": "code",
   "execution_count": null,
   "id": "3d06f17c-54ee-4c2f-9c90-7af8dda4f874",
   "metadata": {},
   "outputs": [],
   "source": []
  },
  {
   "cell_type": "markdown",
   "id": "101f6c4d-90fd-4d2c-bc07-46f6514b5553",
   "metadata": {},
   "source": [
    "Q3. What is DML? Explain INSERT, UPDATE, and DELETE with an example."
   ]
  },
  {
   "cell_type": "markdown",
   "id": "f732dd6b-7efa-4e84-b0a7-f699937a8c1f",
   "metadata": {},
   "source": [
    "DML is a language that is used to manipulate data stored in the database"
   ]
  },
  {
   "cell_type": "markdown",
   "id": "ea4c5dda-9706-4a9c-8d14-0d910b86bd08",
   "metadata": {
    "tags": []
   },
   "source": [
    "The INSERT statement introduces new rows into an existing table.                       \n",
    "The DELETE statement removes a row or combination of rows from a table                                     \n",
    "The UPDATE statement enables users to update a row or group of rows in a table.                   "
   ]
  },
  {
   "cell_type": "code",
   "execution_count": null,
   "id": "9801e98d-4596-427f-90de-4657caaa6c71",
   "metadata": {},
   "outputs": [],
   "source": []
  },
  {
   "cell_type": "markdown",
   "id": "60feda7c-98ba-4d06-a621-32b4ec0f6300",
   "metadata": {},
   "source": [
    "Q4. What is DQL? Explain SELECT with an example."
   ]
  },
  {
   "cell_type": "markdown",
   "id": "3e30bf29-84ff-401b-8fd6-3d466d384354",
   "metadata": {},
   "source": [
    "Data Query Language"
   ]
  },
  {
   "cell_type": "markdown",
   "id": "07a50e4b-a21d-46e8-af48-432f59c0f70a",
   "metadata": {},
   "source": [
    "Select command is used to fetch the data in a set of records from a table,\n",
    "view or a group of tables, views by making use of SQL join"
   ]
  },
  {
   "cell_type": "code",
   "execution_count": null,
   "id": "04d46250-6e90-40a9-992a-a9e0aa970a5e",
   "metadata": {},
   "outputs": [],
   "source": []
  },
  {
   "cell_type": "markdown",
   "id": "bdd9fee2-7a6c-432d-accd-49c9ef9082a0",
   "metadata": {},
   "source": [
    "Q5. Explain Primary Key and Foreign Key."
   ]
  },
  {
   "cell_type": "markdown",
   "id": "a0281d59-38d4-49aa-b0cd-8a4ab4dc15ef",
   "metadata": {},
   "source": [
    "A primary key is used to ensure data in the specific column is unique.                                    \n",
    "A foreign key is a column or group of columns in a relational database table that provides a link between data in two tables"
   ]
  },
  {
   "cell_type": "code",
   "execution_count": null,
   "id": "6ac697c5-8f78-4574-8405-f6be78c37269",
   "metadata": {},
   "outputs": [],
   "source": []
  },
  {
   "cell_type": "markdown",
   "id": "9e9f7bb7-0ece-4251-a7b0-6da5414927dc",
   "metadata": {},
   "source": [
    "Q6. Write a python code to connect MySQL to python. Explain the cursor() and execute() method."
   ]
  },
  {
   "cell_type": "code",
   "execution_count": 24,
   "id": "ea455a81-6fa1-461c-a8ae-49f2470107a0",
   "metadata": {},
   "outputs": [
    {
     "name": "stdout",
     "output_type": "stream",
     "text": [
      "Collecting MySQL\n",
      "  Using cached mysql-0.0.3-py3-none-any.whl (1.2 kB)\n",
      "Collecting mysqlclient\n",
      "  Using cached mysqlclient-2.2.0.tar.gz (89 kB)\n",
      "  Installing build dependencies ... \u001b[?25ldone\n",
      "\u001b[?25h  Getting requirements to build wheel ... \u001b[?25lerror\n",
      "  \u001b[1;31merror\u001b[0m: \u001b[1msubprocess-exited-with-error\u001b[0m\n",
      "  \n",
      "  \u001b[31m×\u001b[0m \u001b[32mGetting requirements to build wheel\u001b[0m did not run successfully.\n",
      "  \u001b[31m│\u001b[0m exit code: \u001b[1;36m1\u001b[0m\n",
      "  \u001b[31m╰─>\u001b[0m \u001b[31m[24 lines of output]\u001b[0m\n",
      "  \u001b[31m   \u001b[0m /bin/sh: 1: pkg-config: not found\n",
      "  \u001b[31m   \u001b[0m /bin/sh: 1: pkg-config: not found\n",
      "  \u001b[31m   \u001b[0m Trying pkg-config --exists mysqlclient\n",
      "  \u001b[31m   \u001b[0m Command 'pkg-config --exists mysqlclient' returned non-zero exit status 127.\n",
      "  \u001b[31m   \u001b[0m Trying pkg-config --exists mariadb\n",
      "  \u001b[31m   \u001b[0m Command 'pkg-config --exists mariadb' returned non-zero exit status 127.\n",
      "  \u001b[31m   \u001b[0m Traceback (most recent call last):\n",
      "  \u001b[31m   \u001b[0m   File \"/opt/conda/lib/python3.10/site-packages/pip/_vendor/pep517/in_process/_in_process.py\", line 351, in <module>\n",
      "  \u001b[31m   \u001b[0m     main()\n",
      "  \u001b[31m   \u001b[0m   File \"/opt/conda/lib/python3.10/site-packages/pip/_vendor/pep517/in_process/_in_process.py\", line 333, in main\n",
      "  \u001b[31m   \u001b[0m     json_out['return_val'] = hook(**hook_input['kwargs'])\n",
      "  \u001b[31m   \u001b[0m   File \"/opt/conda/lib/python3.10/site-packages/pip/_vendor/pep517/in_process/_in_process.py\", line 118, in get_requires_for_build_wheel\n",
      "  \u001b[31m   \u001b[0m     return hook(config_settings)\n",
      "  \u001b[31m   \u001b[0m   File \"/tmp/pip-build-env-a8_lj18a/overlay/lib/python3.10/site-packages/setuptools/build_meta.py\", line 341, in get_requires_for_build_wheel\n",
      "  \u001b[31m   \u001b[0m     return self._get_build_requires(config_settings, requirements=['wheel'])\n",
      "  \u001b[31m   \u001b[0m   File \"/tmp/pip-build-env-a8_lj18a/overlay/lib/python3.10/site-packages/setuptools/build_meta.py\", line 323, in _get_build_requires\n",
      "  \u001b[31m   \u001b[0m     self.run_setup()\n",
      "  \u001b[31m   \u001b[0m   File \"/tmp/pip-build-env-a8_lj18a/overlay/lib/python3.10/site-packages/setuptools/build_meta.py\", line 338, in run_setup\n",
      "  \u001b[31m   \u001b[0m     exec(code, locals())\n",
      "  \u001b[31m   \u001b[0m   File \"<string>\", line 154, in <module>\n",
      "  \u001b[31m   \u001b[0m   File \"<string>\", line 48, in get_config_posix\n",
      "  \u001b[31m   \u001b[0m   File \"<string>\", line 27, in find_package_name\n",
      "  \u001b[31m   \u001b[0m Exception: Can not find valid pkg-config name.\n",
      "  \u001b[31m   \u001b[0m Specify MYSQLCLIENT_CFLAGS and MYSQLCLIENT_LDFLAGS env vars manually\n",
      "  \u001b[31m   \u001b[0m \u001b[31m[end of output]\u001b[0m\n",
      "  \n",
      "  \u001b[1;35mnote\u001b[0m: This error originates from a subprocess, and is likely not a problem with pip.\n",
      "\u001b[1;31merror\u001b[0m: \u001b[1msubprocess-exited-with-error\u001b[0m\n",
      "\n",
      "\u001b[31m×\u001b[0m \u001b[32mGetting requirements to build wheel\u001b[0m did not run successfully.\n",
      "\u001b[31m│\u001b[0m exit code: \u001b[1;36m1\u001b[0m\n",
      "\u001b[31m╰─>\u001b[0m See above for output.\n",
      "\n",
      "\u001b[1;35mnote\u001b[0m: This error originates from a subprocess, and is likely not a problem with pip.\n",
      "\u001b[?25hNote: you may need to restart the kernel to use updated packages.\n"
     ]
    }
   ],
   "source": [
    "pip install MySQL"
   ]
  },
  {
   "cell_type": "code",
   "execution_count": 25,
   "id": "7cbc5f8c-bdbc-45c2-b7e6-ec0da024fd59",
   "metadata": {},
   "outputs": [
    {
     "ename": "SyntaxError",
     "evalue": "unterminated string literal (detected at line 6) (588004997.py, line 6)",
     "output_type": "error",
     "traceback": [
      "\u001b[0;36m  Cell \u001b[0;32mIn[25], line 6\u001b[0;36m\u001b[0m\n\u001b[0;31m    'host': '0.0.0.0/0\u001b[0m\n\u001b[0m            ^\u001b[0m\n\u001b[0;31mSyntaxError\u001b[0m\u001b[0;31m:\u001b[0m unterminated string literal (detected at line 6)\n"
     ]
    }
   ],
   "source": [
    "import mysql.connector\n",
    "\n",
    "config = {\n",
    "  'user': 'scott',\n",
    "  'password': 'password',\n",
    "  'host': '0.0.0.0/0\n",
    "  'database': 'employees',\n",
    "  'raise_on_warnings': True\n",
    "}\n",
    "\n",
    "cnx = mysql.connector.connect(**config)\n",
    "\n",
    "cnx.close()"
   ]
  },
  {
   "cell_type": "code",
   "execution_count": null,
   "id": "5643ff9f-843a-4d8c-b8a3-7bc029111108",
   "metadata": {},
   "outputs": [],
   "source": []
  },
  {
   "cell_type": "markdown",
   "id": "86160391-f18f-4aa6-ac51-0fa1e1ea6702",
   "metadata": {},
   "source": [
    "Q7. Give the order of execution of SQL clauses in an SQL query."
   ]
  },
  {
   "cell_type": "code",
   "execution_count": null,
   "id": "e2ca163a-ddb0-4a84-85e5-cfa7798f7984",
   "metadata": {},
   "outputs": [],
   "source": []
  }
 ],
 "metadata": {
  "kernelspec": {
   "display_name": "Python 3 (ipykernel)",
   "language": "python",
   "name": "python3"
  },
  "language_info": {
   "codemirror_mode": {
    "name": "ipython",
    "version": 3
   },
   "file_extension": ".py",
   "mimetype": "text/x-python",
   "name": "python",
   "nbconvert_exporter": "python",
   "pygments_lexer": "ipython3",
   "version": "3.10.8"
  }
 },
 "nbformat": 4,
 "nbformat_minor": 5
}
